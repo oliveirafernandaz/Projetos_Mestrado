{
 "cells": [
  {
   "cell_type": "code",
   "execution_count": 1,
   "id": "a7a0af52",
   "metadata": {},
   "outputs": [],
   "source": [
    "import os\n",
    "import numpy as np\n",
    "import pandas as pd\n",
    "import seaborn as sns\n",
    "import nltk.corpus"
   ]
  },
  {
   "cell_type": "code",
   "execution_count": 2,
   "id": "6df439e0",
   "metadata": {},
   "outputs": [
    {
     "name": "stderr",
     "output_type": "stream",
     "text": [
      "[nltk_data] Downloading package stopwords to C:\\Users\\Avell G1745\n",
      "[nltk_data]     MAX\\AppData\\Roaming\\nltk_data...\n",
      "[nltk_data]   Package stopwords is already up-to-date!\n"
     ]
    },
    {
     "data": {
      "text/plain": [
       "True"
      ]
     },
     "execution_count": 2,
     "metadata": {},
     "output_type": "execute_result"
    }
   ],
   "source": [
    "nltk.download('stopwords')"
   ]
  },
  {
   "cell_type": "code",
   "execution_count": 3,
   "id": "dc5a1395",
   "metadata": {},
   "outputs": [],
   "source": [
    "stopwords = nltk.corpus.stopwords.words('portuguese')"
   ]
  },
  {
   "cell_type": "code",
   "execution_count": 4,
   "id": "5b8afdfd",
   "metadata": {},
   "outputs": [],
   "source": [
    "data = pd.read_csv('data_direita_semrt_todos.csv')"
   ]
  },
  {
   "cell_type": "code",
   "execution_count": 5,
   "id": "bc2c449d",
   "metadata": {},
   "outputs": [],
   "source": [
    "import string"
   ]
  },
  {
   "cell_type": "code",
   "execution_count": 6,
   "id": "a7a9b802",
   "metadata": {},
   "outputs": [],
   "source": [
    "import re\n",
    "data['text'] = data['text'].apply(lambda x: re.split('https:\\/\\/.*', str(x))[0])"
   ]
  },
  {
   "cell_type": "code",
   "execution_count": 7,
   "id": "2a1bd81e",
   "metadata": {},
   "outputs": [],
   "source": [
    "def remove_punctuation(txt):\n",
    "    txt_nopunct = ''.join([c for c in txt if c not in string.punctuation])\n",
    "    return txt_nopunct"
   ]
  },
  {
   "cell_type": "code",
   "execution_count": 8,
   "id": "a3cb64c6",
   "metadata": {},
   "outputs": [],
   "source": [
    "data['text'] = data['text'].apply(lambda x: remove_punctuation(x))"
   ]
  },
  {
   "cell_type": "code",
   "execution_count": 9,
   "id": "37007209",
   "metadata": {},
   "outputs": [],
   "source": [
    "import re\n",
    "\n",
    "def tokenize(txt):\n",
    "    tokens = re.split('\\W+', txt)\n",
    "    return tokens\n",
    "\n",
    "data['text'] = data['text'].apply(lambda x: tokenize(x.lower()))"
   ]
  },
  {
   "cell_type": "code",
   "execution_count": 10,
   "id": "27e5c8bc",
   "metadata": {},
   "outputs": [],
   "source": [
    "def remove_stopwords(txt_tokenized):\n",
    "    txt_clean = [word for word in txt_tokenized if word not in stopwords]\n",
    "    return txt_clean\n",
    "\n",
    "data['text'] = data['text'].apply(lambda x: remove_stopwords(x))"
   ]
  },
  {
   "cell_type": "code",
   "execution_count": 28,
   "id": "193f8f5a",
   "metadata": {},
   "outputs": [],
   "source": [
    "data.to_csv('direita_cleaned.csv', index = False)"
   ]
  },
  {
   "cell_type": "code",
   "execution_count": 11,
   "id": "4b3eec6a",
   "metadata": {},
   "outputs": [
    {
     "data": {
      "text/html": [
       "<div>\n",
       "<style scoped>\n",
       "    .dataframe tbody tr th:only-of-type {\n",
       "        vertical-align: middle;\n",
       "    }\n",
       "\n",
       "    .dataframe tbody tr th {\n",
       "        vertical-align: top;\n",
       "    }\n",
       "\n",
       "    .dataframe thead th {\n",
       "        text-align: right;\n",
       "    }\n",
       "</style>\n",
       "<table border=\"1\" class=\"dataframe\">\n",
       "  <thead>\n",
       "    <tr style=\"text-align: right;\">\n",
       "      <th></th>\n",
       "      <th>tweet id</th>\n",
       "      <th>username</th>\n",
       "      <th>text</th>\n",
       "    </tr>\n",
       "  </thead>\n",
       "  <tbody>\n",
       "    <tr>\n",
       "      <th>0</th>\n",
       "      <td>1.097856e+18</td>\n",
       "      <td>depheliolopes</td>\n",
       "      <td>['carlos', 'marighella', 'viés', 'comunista', ...</td>\n",
       "    </tr>\n",
       "    <tr>\n",
       "      <th>1</th>\n",
       "      <td>1.097856e+18</td>\n",
       "      <td>depheliolopes</td>\n",
       "      <td>['carlos', 'marighella', 'viés', 'comunista', ...</td>\n",
       "    </tr>\n",
       "    <tr>\n",
       "      <th>2</th>\n",
       "      <td>1.217505e+18</td>\n",
       "      <td>CarlaZambelli38</td>\n",
       "      <td>['filme', 'marighella', 'vem', 'brasil', 'porq...</td>\n",
       "    </tr>\n",
       "    <tr>\n",
       "      <th>3</th>\n",
       "      <td>1.097821e+18</td>\n",
       "      <td>CarlaZambelli38</td>\n",
       "      <td>['ditadura', 'represália', 'filme', 'wagner', ...</td>\n",
       "    </tr>\n",
       "    <tr>\n",
       "      <th>4</th>\n",
       "      <td>1.097214e+18</td>\n",
       "      <td>CarlaZambelli38</td>\n",
       "      <td>['vai', 'assistir', 'filme', 'marighella', 'in...</td>\n",
       "    </tr>\n",
       "    <tr>\n",
       "      <th>...</th>\n",
       "      <td>...</td>\n",
       "      <td>...</td>\n",
       "      <td>...</td>\n",
       "    </tr>\n",
       "    <tr>\n",
       "      <th>223</th>\n",
       "      <td>1.038418e+18</td>\n",
       "      <td>fasalles</td>\n",
       "      <td>['boa', 'lembrança', 'marighella', 'assassino'...</td>\n",
       "    </tr>\n",
       "    <tr>\n",
       "      <th>224</th>\n",
       "      <td>1.462214e+18</td>\n",
       "      <td>pauloap</td>\n",
       "      <td>['bertazer', 'filme', 'marighella', 'vc', 'ver']</td>\n",
       "    </tr>\n",
       "    <tr>\n",
       "      <th>225</th>\n",
       "      <td>1.454881e+18</td>\n",
       "      <td>pauloap</td>\n",
       "      <td>['primeiro', 'marighella', 'negro', 'parem', '...</td>\n",
       "    </tr>\n",
       "    <tr>\n",
       "      <th>226</th>\n",
       "      <td>1.197307e+18</td>\n",
       "      <td>pauloap</td>\n",
       "      <td>['quer', 'reclamar', 'homenagem', 'pinochet', ...</td>\n",
       "    </tr>\n",
       "    <tr>\n",
       "      <th>227</th>\n",
       "      <td>1.097949e+18</td>\n",
       "      <td>pauloap</td>\n",
       "      <td>['excelente', 'video', 'bernardopkuster', 'exp...</td>\n",
       "    </tr>\n",
       "  </tbody>\n",
       "</table>\n",
       "<p>228 rows × 3 columns</p>\n",
       "</div>"
      ],
      "text/plain": [
       "         tweet id         username  \\\n",
       "0    1.097856e+18    depheliolopes   \n",
       "1    1.097856e+18    depheliolopes   \n",
       "2    1.217505e+18  CarlaZambelli38   \n",
       "3    1.097821e+18  CarlaZambelli38   \n",
       "4    1.097214e+18  CarlaZambelli38   \n",
       "..            ...              ...   \n",
       "223  1.038418e+18         fasalles   \n",
       "224  1.462214e+18          pauloap   \n",
       "225  1.454881e+18          pauloap   \n",
       "226  1.197307e+18          pauloap   \n",
       "227  1.097949e+18          pauloap   \n",
       "\n",
       "                                                  text  \n",
       "0    ['carlos', 'marighella', 'viés', 'comunista', ...  \n",
       "1    ['carlos', 'marighella', 'viés', 'comunista', ...  \n",
       "2    ['filme', 'marighella', 'vem', 'brasil', 'porq...  \n",
       "3    ['ditadura', 'represália', 'filme', 'wagner', ...  \n",
       "4    ['vai', 'assistir', 'filme', 'marighella', 'in...  \n",
       "..                                                 ...  \n",
       "223  ['boa', 'lembrança', 'marighella', 'assassino'...  \n",
       "224   ['bertazer', 'filme', 'marighella', 'vc', 'ver']  \n",
       "225  ['primeiro', 'marighella', 'negro', 'parem', '...  \n",
       "226  ['quer', 'reclamar', 'homenagem', 'pinochet', ...  \n",
       "227  ['excelente', 'video', 'bernardopkuster', 'exp...  \n",
       "\n",
       "[228 rows x 3 columns]"
      ]
     },
     "execution_count": 11,
     "metadata": {},
     "output_type": "execute_result"
    }
   ],
   "source": [
    "data_saved_file = pd.read_csv('direita_cleaned.csv')\n",
    "data_saved_file"
   ]
  },
  {
   "cell_type": "code",
   "execution_count": null,
   "id": "ab4038b0",
   "metadata": {},
   "outputs": [],
   "source": []
  }
 ],
 "metadata": {
  "kernelspec": {
   "display_name": "Python 3 (ipykernel)",
   "language": "python",
   "name": "python3"
  },
  "language_info": {
   "codemirror_mode": {
    "name": "ipython",
    "version": 3
   },
   "file_extension": ".py",
   "mimetype": "text/x-python",
   "name": "python",
   "nbconvert_exporter": "python",
   "pygments_lexer": "ipython3",
   "version": "3.9.12"
  }
 },
 "nbformat": 4,
 "nbformat_minor": 5
}
