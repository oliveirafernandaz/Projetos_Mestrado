{
 "cells": [
  {
   "cell_type": "code",
   "execution_count": 76,
   "id": "b664b1d5",
   "metadata": {},
   "outputs": [],
   "source": [
    "from tweepy import *\n",
    " \n",
    "import pandas as pd\n",
    "import csv\n",
    "import regex\n",
    "import preprocessor as p\n",
    "import os\n",
    "import requests\n",
    "import json\n",
    "import datetime\n",
    "import dateutil.parser\n",
    "import unicodedata\n",
    "import time"
   ]
  },
  {
   "cell_type": "code",
   "execution_count": 77,
   "id": "41d2c5d9",
   "metadata": {},
   "outputs": [],
   "source": [
    "auth = OAuth1UserHandler('xxxxxxx','xxxxxxxx', 'xxxxxxxx', 'xxxxxxx')"
   ]
  },
  {
   "cell_type": "code",
   "execution_count": 78,
   "id": "459289dc",
   "metadata": {},
   "outputs": [],
   "source": [
    "os.environ['TOKEN'] = 'xxxxxxx'"
   ]
  },
  {
   "cell_type": "code",
   "execution_count": 79,
   "id": "84f98ca0",
   "metadata": {},
   "outputs": [],
   "source": [
    "def auth():\n",
    "    return os.getenv('TOKEN')"
   ]
  },
  {
   "cell_type": "code",
   "execution_count": 80,
   "id": "922293b9",
   "metadata": {},
   "outputs": [],
   "source": [
    "def create_headers(bearer_token):\n",
    "    headers = {\"Authorization\": \"Bearer {}\".format(bearer_token)}\n",
    "    return headers"
   ]
  },
  {
   "cell_type": "code",
   "execution_count": 81,
   "id": "1e8d671d",
   "metadata": {},
   "outputs": [],
   "source": [
    "filename = 'data_centro.csv'"
   ]
  },
  {
   "cell_type": "code",
   "execution_count": 82,
   "id": "2ce28023",
   "metadata": {},
   "outputs": [],
   "source": [
    "def create_url(user):\n",
    "    \n",
    "    search_url = 'https://api.twitter.com/2/tweets/search/all?query=marighella%20from%3A{username}&start_time=2018-05-01T00:00:00.000Z&end_time=2022-05-19T00:00:00.000Z&max_results=100'.format(username = user)\n",
    "    \n",
    "    return (search_url, {})"
   ]
  },
  {
   "cell_type": "code",
   "execution_count": 83,
   "id": "f047e617",
   "metadata": {},
   "outputs": [],
   "source": [
    "def connect_to_endpoint(url, headers, params, next_token = None):\n",
    "    response = requests.request(\"GET\", url, headers = headers, params = params)\n",
    "    print(\"Endpoint Response Code: \" + str(response.status_code))\n",
    "    if response.status_code != 200:\n",
    "        raise Exception(response.status_code, response.text)\n",
    "    return response.json()"
   ]
  },
  {
   "cell_type": "code",
   "execution_count": 87,
   "id": "064360d7",
   "metadata": {},
   "outputs": [],
   "source": [
    "csvFile = open(filename, \"w\", newline=\"\", encoding='utf-8')\n",
    "csvWriter = csv.writer(csvFile)\n",
    "\n",
    "csvWriter.writerow(['tweet id', 'username', 'text'])\n",
    "csvFile.close()"
   ]
  },
  {
   "cell_type": "code",
   "execution_count": 89,
   "id": "0cfd1ccd",
   "metadata": {},
   "outputs": [],
   "source": [
    "lista_direita = [\"diogomainardi\", \"alexandre\", \"darioberger\", \"meirelles\", \"andreiasadi\", \"joaquimboficial\", \"betepacheco_\", \"rafinhabastos\", \"marcelotas\", \"soniabridi\", \"manoeljunior\", \"ancelmocom\", \"luciaguimaraes\", \"elcionepmdb\", \"mauriciostycer\", \"rodrigoagost\", \"mariana_godoy\", \"venezianovital\", \"domingos_neto\", \"eduardobraga_am\", \"fbezerracoelho\", \"depjuscelino\", \"dulcemiranda_to\", \"celsorussomanno\", \"coelho_rodrigo\", \"neyleprevost\", \"romarioonze\", \"alexandrekalil\", \"guyfranco\", \"23rubensbueno\", \"vanderlan_VC\", \"jorginhomello\", \"lmegale\", \"herculanopassos\", \"deputadocajado\", \"marcobertaiolli\", \"vanderleimacris\", \"vicentinhojr\", \"giovanicheirini\", \"lucianoducci\", \"monicawaldvogel\", \"alceu_moreira\", \"soudaniella111\", \"depbrunafurlan\", \"cinthiacribeiro\", \"rodrigo_janot\", \"marcelocastropi\", \"monicabergamo\", \"marcivania65\", \"depjuliocesarpi\", \"jader_barbalho\", \"cacaleao\", \"marcivania65\", \"felipeneto\", \"depjuliodelgado\", \"depnilsonpinto\", \"ciro_nogueira\", \"profisrael\", \"astridfontenell\", \"fabioreis1515\", \"luciano_cartaxo\", \"juliaduaillibi\", \"marceloadnet\", \"leojaime\", \"tiriricanaweb\", \"vermagalhaes\", \"joaoborges\", \"diegoescosteguy\", \"rachelsherazade\", \"thaisheredia\", \"gurovitz\", \"joelpinheiros85\", \"gcamarotti\", \"p_dromenezes\", \"sergioaguiar07\", \"goescarlos\", \"ecantanhede\", \"maraluquet\", \"sergioaguiar07\", \"valdocruz\", \"sandraacoutinho\", \"reinaldoazevedo\", \"eduardobarao\", \"laurojardim\", \"cassiagodoy\", \"dorakramer\", \"maraluquet\", \"andreiasadi\", \"lmegale\", \"octavio_guedes\", \"blogdojosias\", \"mitrombelli\", \"miriamleitaocom\", \"gugachacra\", \"mariana_godoy\", \"soniabridi\", \"andrizek\", \"mauriciostycer\", \"anterogreco\", \"flaviaol\", \"monicabergamo\", \"juliaduailibi\", \"jose_simao\", \"blogdonoblat\", \"toffolettocatia\", \"fabiolacidral\", \"beltraomaria\", \"cristilobo\", \"moniquecheker\", \"vladimiraras\", \"janiceascari\", \"gilmarmendes\", \"nelsinhotrad\", \"cristianeyared\", \"cabodaciolo\", \"macrivella\", \"ddepvitorlippi\", \"eymaeloficial\", \"caleromarcelo\", \"renataabreudep\", \"newton1510\", \"confuciomoura\", \"josemaranhaopb\", \"efraimfilho\", \"celinaleao\", \"lincoln_portela\", \"depdarcidematos\", \"pauloabiackel\", \"carlos_gaguim\", \"acmneto_\", \"alan_rick\", \"depluizcarlos\", \"collor\", \"arnaldojardim\", \"geanloureiro\", \"helderbarbalho\", \"rafaelgreca_\", \"gustavofruet\", \"mauricioptbrs\", \"ciro_nogueira\", \"marceloramosam\", \"casagrande_es\", \"fhc\", \"manoeljunior\", \"eduardopaes_\", \"firmino_filho\", \"iracemaportela\", \"gervasiomaia\", \"camilopsb\", \"luciano_cartaxo\", \"silvio_cfilho\", \"margaretcoelho\", \"cidgomes\", \"randolfeap\", \"marinasilva\", \"mario_heringer\", \"depnilsonpinto\", \"laerciofederal\", \"dep_paulinho\", \"sen_cristovam\", \"renanfilho_\", \"paulocamara40\", \"raulhenry\", \"_sergiosouza\", \"dagobertopdt\", \"depandrefufuca\", \"fbezerracoelho\", \"acaciofavacho\", \"dephugoleal\", \"giovanifeltes\", \"lucianoducci\", \"geanloureiro\", \"lucianohuck\", \"elenalandrau\"]"
   ]
  },
  {
   "cell_type": "code",
   "execution_count": 90,
   "id": "40ec88ca",
   "metadata": {},
   "outputs": [],
   "source": [
    "def append_to_csv():\n",
    "\n",
    "    counter = 0\n",
    "\n",
    "    csvFile = open(filename, \"a\", newline=\"\", encoding='utf-8')\n",
    "    csvWriter = csv.writer(csvFile)\n",
    "    headers = create_headers(bearer_token)\n",
    "    \n",
    "    for user in lista_direita:\n",
    "        time.sleep(2)\n",
    "        url = create_url(user = user)\n",
    "        json_response = connect_to_endpoint(url[0], headers, url[1])\n",
    "        \n",
    "        if not 'data' in json_response:\n",
    "            print('Nenhum tweet encontrado para o usuário {username}'.format(username = user))\n",
    "            continue\n",
    "        for tweet in json_response['data']:\n",
    "\n",
    "            tweet_id = tweet['id']\n",
    "\n",
    "            text = tweet['text']\n",
    "\n",
    "            res = [tweet_id, user, text]\n",
    "\n",
    "            csvWriter.writerow(res)\n",
    "            counter += 1\n",
    "\n",
    "    csvFile.close()\n",
    "\n",
    "    print(\"# of Tweets added from this response: \", counter) "
   ]
  },
  {
   "cell_type": "code",
   "execution_count": null,
   "id": "4d3f7755",
   "metadata": {},
   "outputs": [],
   "source": []
  }
 ],
 "metadata": {
  "kernelspec": {
   "display_name": "Python 3 (ipykernel)",
   "language": "python",
   "name": "python3"
  },
  "language_info": {
   "codemirror_mode": {
    "name": "ipython",
    "version": 3
   },
   "file_extension": ".py",
   "mimetype": "text/x-python",
   "name": "python",
   "nbconvert_exporter": "python",
   "pygments_lexer": "ipython3",
   "version": "3.9.12"
  }
 },
 "nbformat": 4,
 "nbformat_minor": 5
}
